{
 "cells": [
  {
   "cell_type": "code",
   "execution_count": 1,
   "metadata": {},
   "outputs": [],
   "source": [
    "import requests as re\n",
    "import pandas as pd\n",
    "import numpy as np\n",
    "import os\n",
    "from bs4 import BeautifulSoup"
   ]
  },
  {
   "cell_type": "markdown",
   "metadata": {},
   "source": [
    "Today the goal is to see how much improvement we can get by threading API calls on a single network card"
   ]
  },
  {
   "cell_type": "code",
   "execution_count": 2,
   "metadata": {},
   "outputs": [],
   "source": [
    "allThreads_csv = os.path.join(\"data\", \"allthreads-2018-04-24T1300.csv\")\n",
    "allThreads_df = pd.read_csv(allThreads_csv)"
   ]
  },
  {
   "cell_type": "code",
   "execution_count": 3,
   "metadata": {},
   "outputs": [],
   "source": [
    "site_url = 'https://forums.hardwarezone.com.sg'"
   ]
  },
  {
   "cell_type": "code",
   "execution_count": 4,
   "metadata": {
    "scrolled": false
   },
   "outputs": [
    {
     "name": "stdout",
     "output_type": "stream",
     "text": [
      "154\n"
     ]
    },
    {
     "data": {
      "text/html": [
       "<div>\n",
       "<style scoped>\n",
       "    .dataframe tbody tr th:only-of-type {\n",
       "        vertical-align: middle;\n",
       "    }\n",
       "\n",
       "    .dataframe tbody tr th {\n",
       "        vertical-align: top;\n",
       "    }\n",
       "\n",
       "    .dataframe thead th {\n",
       "        text-align: right;\n",
       "    }\n",
       "</style>\n",
       "<table border=\"1\" class=\"dataframe\">\n",
       "  <thead>\n",
       "    <tr style=\"text-align: right;\">\n",
       "      <th></th>\n",
       "      <th>forum_url</th>\n",
       "      <th>thread</th>\n",
       "      <th>thread_url</th>\n",
       "    </tr>\n",
       "  </thead>\n",
       "  <tbody>\n",
       "    <tr>\n",
       "      <th>97846</th>\n",
       "      <td>https://forums.hardwarezone.com.sg/parenting-k...</td>\n",
       "      <td>Welcome to HWZ's Parenting, Kids &amp; Early Learn...</td>\n",
       "      <td>https://forums.hardwarezone.com.sg/parenting-k...</td>\n",
       "    </tr>\n",
       "    <tr>\n",
       "      <th>97847</th>\n",
       "      <td>https://forums.hardwarezone.com.sg/parenting-k...</td>\n",
       "      <td>Milk powder</td>\n",
       "      <td>https://forums.hardwarezone.com.sg/parenting-k...</td>\n",
       "    </tr>\n",
       "    <tr>\n",
       "      <th>97848</th>\n",
       "      <td>https://forums.hardwarezone.com.sg/parenting-k...</td>\n",
       "      <td>I suspect my child has ADHD</td>\n",
       "      <td>https://forums.hardwarezone.com.sg/parenting-k...</td>\n",
       "    </tr>\n",
       "    <tr>\n",
       "      <th>97849</th>\n",
       "      <td>https://forums.hardwarezone.com.sg/parenting-k...</td>\n",
       "      <td>Do u lose your temper when teaching your child?</td>\n",
       "      <td>https://forums.hardwarezone.com.sg/parenting-k...</td>\n",
       "    </tr>\n",
       "    <tr>\n",
       "      <th>97850</th>\n",
       "      <td>https://forums.hardwarezone.com.sg/parenting-k...</td>\n",
       "      <td>Cry when feeding</td>\n",
       "      <td>https://forums.hardwarezone.com.sg/parenting-k...</td>\n",
       "    </tr>\n",
       "  </tbody>\n",
       "</table>\n",
       "</div>"
      ],
      "text/plain": [
       "                                               forum_url  \\\n",
       "97846  https://forums.hardwarezone.com.sg/parenting-k...   \n",
       "97847  https://forums.hardwarezone.com.sg/parenting-k...   \n",
       "97848  https://forums.hardwarezone.com.sg/parenting-k...   \n",
       "97849  https://forums.hardwarezone.com.sg/parenting-k...   \n",
       "97850  https://forums.hardwarezone.com.sg/parenting-k...   \n",
       "\n",
       "                                                  thread  \\\n",
       "97846  Welcome to HWZ's Parenting, Kids & Early Learn...   \n",
       "97847                                        Milk powder   \n",
       "97848                        I suspect my child has ADHD   \n",
       "97849    Do u lose your temper when teaching your child?   \n",
       "97850                                   Cry when feeding   \n",
       "\n",
       "                                              thread_url  \n",
       "97846  https://forums.hardwarezone.com.sg/parenting-k...  \n",
       "97847  https://forums.hardwarezone.com.sg/parenting-k...  \n",
       "97848  https://forums.hardwarezone.com.sg/parenting-k...  \n",
       "97849  https://forums.hardwarezone.com.sg/parenting-k...  \n",
       "97850  https://forums.hardwarezone.com.sg/parenting-k...  "
      ]
     },
     "execution_count": 4,
     "metadata": {},
     "output_type": "execute_result"
    }
   ],
   "source": [
    "parentingThreads_df = allThreads_df.loc[allThreads_df['forum_url'] == 'https://forums.hardwarezone.com.sg/parenting-kids-early-learning-397/']\n",
    "print(len(parentingThreads_df))\n",
    "parentingThreads_df.head()"
   ]
  },
  {
   "cell_type": "code",
   "execution_count": 5,
   "metadata": {},
   "outputs": [],
   "source": [
    "def getPosts(thread_url):\n",
    "    print(thread_url)\n",
    "    lastThreadPage = False\n",
    "    thread_cols = ['thread_url', 'userid', 'timestamp', 'post_text'] #, 'post_number', 'post_order', 'first_quote_post_number', 'likes_userid'\n",
    "    thread_df = pd.DataFrame(columns=thread_cols)\n",
    "    thread_page_url = thread_url\n",
    "\n",
    "    while(not lastThreadPage):\n",
    "        #print(thread_page_url)\n",
    "        r3 = re.get(thread_page_url)\n",
    "        thread_page = r3.text\n",
    "        thread_page_soup = BeautifulSoup(thread_page, 'html.parser')\n",
    "\n",
    "        if (thread_page_soup.find('a', text='Next ›') == None):\n",
    "            lastThreadPage = True\n",
    "        else:\n",
    "            thread_page_url = site_url + thread_page_soup.find('a', text='Next ›')['href']\n",
    "\n",
    "        thread_page_posts = thread_page_soup.find('div', {'id': 'posts'})\n",
    "        \n",
    "        try: \n",
    "            for post in thread_page_posts.find_all('div', {'class': 'post-wrapper'}):\n",
    "                userid_url = post.find('a', {'class': 'bigusername'})['href']\n",
    "                userid = ''.join(filter(lambda x: x.isdigit(), userid_url))\n",
    "\n",
    "                datetime_raw = post.find('a', {'name': lambda x: x and x.find('post') == 0}).nextSibling.strip()\n",
    "                date_list = datetime_raw.split(',')[0].split('-')\n",
    "                iso_date = '-'.join(list(reversed(date_list)))\n",
    "                hour = int(datetime_raw.split(' ')[1][0:2])\n",
    "                if(datetime_raw.split(' ')[2] == 'PM' and hour < 12):\n",
    "                    hour += 12\n",
    "                hour_str = str(hour)\n",
    "                if(hour < 10):\n",
    "                    hour_str = '0' + str(hour)\n",
    "                minute = datetime_raw.split(':')[1][0:2]\n",
    "                iso_datetime = iso_date + 'T' + hour_str + ':' + minute\n",
    "\n",
    "                post_text = \"\"\n",
    "                try:\n",
    "                    post_text = post.find('div', {'class': 'post_message'}).get_text(' ', strip=True)\n",
    "                except AttributeError as e: \n",
    "                    pass\n",
    "\n",
    "                row = pd.DataFrame([[thread_url, userid, iso_datetime, post_text]], columns=thread_cols)\n",
    "                if(len(thread_df)==0):\n",
    "                    thread_df = row\n",
    "                else:\n",
    "                    thread_df = thread_df.append(row, ignore_index=True) #df.append doesn't work inplace\n",
    "        except:\n",
    "            row = pd.DataFrame([[thread_url, \"\", \"\", \"\"]], columns=thread_cols) #posts missing, thread may have been deleted\n",
    "            if(len(thread_df)==0):\n",
    "                thread_df = row\n",
    "            else:\n",
    "                thread_df = thread_df.append(row, ignore_index=True) #df.append doesn't work inplace\n",
    "    return thread_df"
   ]
  },
  {
   "cell_type": "markdown",
   "metadata": {},
   "source": [
    "Let's determine the baseline time for crawling an extract."
   ]
  },
  {
   "cell_type": "code",
   "execution_count": null,
   "metadata": {},
   "outputs": [
    {
     "name": "stdout",
     "output_type": "stream",
     "text": [
      "https://forums.hardwarezone.com.sg/parenting-kids-early-learning-397/welcome-hwzs-parenting-kids-early-learning-forum-5684416.html\n",
      "https://forums.hardwarezone.com.sg/parenting-kids-early-learning-397/milk-powder-5773651.html\n",
      "https://forums.hardwarezone.com.sg/parenting-kids-early-learning-397/i-suspect-my-child-has-adhd-5816748.html\n",
      "https://forums.hardwarezone.com.sg/parenting-kids-early-learning-397/do-u-lose-your-temper-when-teaching-your-child-5785587.html\n",
      "https://forums.hardwarezone.com.sg/parenting-kids-early-learning-397/cry-when-feeding-5723877.html\n",
      "https://forums.hardwarezone.com.sg/parenting-kids-early-learning-397/newborn-nanny-infant-care-maid-after-maternity-leave-5805042.html\n",
      "https://forums.hardwarezone.com.sg/parenting-kids-early-learning-397/anyone-went-thru-abortion-before-5779121.html\n",
      "https://forums.hardwarezone.com.sg/parenting-kids-early-learning-397/selling-obscene-films-used-panties-can-illegal-singapore-5815478.html\n",
      "https://forums.hardwarezone.com.sg/parenting-kids-early-learning-397/potty-training-5813079.html\n",
      "https://forums.hardwarezone.com.sg/parenting-kids-early-learning-397/recommendations-gynae-5784603.html\n",
      "https://forums.hardwarezone.com.sg/parenting-kids-early-learning-397/getting-helper-maid-5813971.html\n",
      "https://forums.hardwarezone.com.sg/parenting-kids-early-learning-397/what-insurance-buy-new-born-5811214.html\n",
      "https://forums.hardwarezone.com.sg/parenting-kids-early-learning-397/thomson-medical-vs-kk-vs-mt-alvernia-vs-gleneagles-go-where-give-birth-best-5659292.html\n",
      "https://forums.hardwarezone.com.sg/parenting-kids-early-learning-397/actually-what-point-children-5604908.html\n",
      "https://forums.hardwarezone.com.sg/parenting-kids-early-learning-397/giving-birth-kkh-5704527.html\n",
      "https://forums.hardwarezone.com.sg/parenting-kids-early-learning-397/joie-car-seat-5805701.html\n",
      "https://forums.hardwarezone.com.sg/parenting-kids-early-learning-397/noise-sensitive-baby-5786142.html\n",
      "https://forums.hardwarezone.com.sg/parenting-kids-early-learning-397/country-maid-better-newborn-baby-care-5809204.html\n",
      "https://forums.hardwarezone.com.sg/parenting-kids-early-learning-397/i-think-too-early-my-3-yr-old-start-nursery-5751518.html\n",
      "https://forums.hardwarezone.com.sg/parenting-kids-early-learning-397/challenges-young-parents-5712911.html\n",
      "https://forums.hardwarezone.com.sg/parenting-kids-early-learning-397/severely-underweight-child-5730829.html\n",
      "https://forums.hardwarezone.com.sg/parenting-kids-early-learning-397/what-should-we-say-our-kids-about-race-5696715.html\n",
      "https://forums.hardwarezone.com.sg/parenting-kids-early-learning-397/primary-school-education-5748028.html\n",
      "https://forums.hardwarezone.com.sg/parenting-kids-early-learning-397/will-you-film-your-wife-during-labour-5762209.html\n",
      "https://forums.hardwarezone.com.sg/parenting-kids-early-learning-397/starting-solid-baby-5768388.html\n",
      "https://forums.hardwarezone.com.sg/parenting-kids-early-learning-397/visiting-friend-s-home-every-weekend-too-frequent-5773627.html\n",
      "https://forums.hardwarezone.com.sg/parenting-kids-early-learning-397/u-all-dare-hug-your-parents-like-when-u-were-kid-now-5597638.html\n"
     ]
    }
   ],
   "source": [
    "%time parentingPosts_df = pd.concat([getPosts(threadUrl) for threadUrl in parentingThreads_df['thread_url']])\n",
    "print(len(parentingPosts_df))"
   ]
  },
  {
   "cell_type": "code",
   "execution_count": null,
   "metadata": {},
   "outputs": [],
   "source": [
    "parentingPosts_df.head()"
   ]
  },
  {
   "cell_type": "code",
   "execution_count": null,
   "metadata": {},
   "outputs": [],
   "source": [
    "\"\"\"Deal with unusual unicode characters in the post text\"\"\"\n",
    "parentingPosts_df['post_text'] = parentingPosts_df['post_text'].map(lambda x: x.encode('unicode-escape').decode('utf-8'))"
   ]
  },
  {
   "cell_type": "code",
   "execution_count": null,
   "metadata": {
    "scrolled": true
   },
   "outputs": [],
   "source": [
    "parentingPosts_csv = os.path.join(\"data\", \"parentingposts-2018-04-24T1300.csv\")\n",
    "parentingPosts_df.to_csv(parentingPosts_csv, encoding='utf-8', index=False)"
   ]
  },
  {
   "cell_type": "markdown",
   "metadata": {},
   "source": [
    "In the interim, get the threads for specific forums and write to file"
   ]
  },
  {
   "cell_type": "code",
   "execution_count": null,
   "metadata": {},
   "outputs": [],
   "source": [
    "#Selectively retrieving threads from forums of interest\n",
    "foi = []\n",
    "#foi.append(\"https://forums.hardwarezone.com.sg/current-affairs-lounge-17/\")\n",
    "#foi.append(\"https://forums.hardwarezone.com.sg/money-mind-210/\")\n",
    "foi.append(\"https://forums.hardwarezone.com.sg/credit-cards-line-credit-facilities-243/\")\n",
    "foi.append(\"https://forums.hardwarezone.com.sg/stocks-shares-indices-92/\")\n",
    "foi.append(\"https://forums.hardwarezone.com.sg/eat-drink-man-woman-16/\")\n",
    "for forum_url in foi:\n",
    "    print(\"Generating posts for \" + str(forum_url) + \" ...\")\n",
    "    threads_df = allThreads_df.loc[allThreads_df['forum_url'] == forum_url]\n",
    "    forum_posts_df = pd.concat([getPosts(threadUrl) for threadUrl in threads_df['thread_url']])\n",
    "    forum_posts_df['post_text'] = forum_posts_df['post_text'].map(lambda x: x.encode('unicode-escape').decode('utf-8'))\n",
    "    forum_posts_csv = os.path.join(\"data\", ''.join(char for char in forum_url.split('/')[3] if not char.isdigit()).strip('-') + \"-2018-04-24T1300.csv\")\n",
    "    forum_posts_df.to_csv(forum_posts_csv, encoding='utf-8', index=False)\n",
    "    print('Posts for ' + str(forum_url) + \" written to \" + str(forum_posts_csv))\n",
    "print('Done')"
   ]
  },
  {
   "cell_type": "code",
   "execution_count": null,
   "metadata": {},
   "outputs": [],
   "source": [
    "def processQueryList(query_list, store=None):\n",
    "    \"\"\"Process a subset of the list of queries that needs to be made, storing posts in a dataframe\"\"\"\n",
    "    if store is None:\n",
    "        store = {}\n",
    "    for url in query_list:\n",
    "        #Store list of dataframes of posts from each thread into the dictionary\n",
    "        store[str(url)] = [getPosts(thread_url) for thread_url in query_list]\n",
    "    return store"
   ]
  },
  {
   "cell_type": "markdown",
   "metadata": {},
   "source": [
    "Since getPosts handles requests thread-wise already, we'll just try to parallelize thread retrieval."
   ]
  },
  {
   "cell_type": "code",
   "execution_count": null,
   "metadata": {},
   "outputs": [],
   "source": [
    "from threading import Thread\n",
    "\n",
    "def threadedApiCall(nthreads, master_query_list):\n",
    "    store = {}\n",
    "    threads = []\n",
    "    sublistLength = len(master_query_list)//nthreads\n",
    "    #split the master query list\n",
    "    sublists = [master_query_list[x:x+sublistLength] for x in range(0,len(master_query_list), sublistLength)]\n",
    "    \n",
    "    for sublist in sublists:\n",
    "        t = Thread(target=processQueryList, args=(sublist, store))\n",
    "        threads.append(t)\n",
    "\n",
    "    #start the threads\n",
    "    [t.start() for t in threads]\n",
    "    #wait for the threads to finish\n",
    "    [t.join() for t in threads]\n",
    "    \n",
    "    return pd.concat(thread_posts for thread_posts in list(store.values()))"
   ]
  },
  {
   "cell_type": "code",
   "execution_count": null,
   "metadata": {
    "scrolled": false
   },
   "outputs": [],
   "source": [
    "%%time\n",
    "threadedApiCall(10, allThreads_df['thread_url'])"
   ]
  }
 ],
 "metadata": {
  "kernelspec": {
   "display_name": "Python 3",
   "language": "python",
   "name": "python3"
  },
  "language_info": {
   "codemirror_mode": {
    "name": "ipython",
    "version": 3
   },
   "file_extension": ".py",
   "mimetype": "text/x-python",
   "name": "python",
   "nbconvert_exporter": "python",
   "pygments_lexer": "ipython3",
   "version": "3.6.4"
  }
 },
 "nbformat": 4,
 "nbformat_minor": 2
}
